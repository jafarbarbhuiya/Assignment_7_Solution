{
 "cells": [
  {
   "cell_type": "markdown",
   "id": "2e93639d",
   "metadata": {},
   "source": [
    "# #Assignment 7"
   ]
  },
  {
   "cell_type": "code",
   "execution_count": 3,
   "id": "88979650",
   "metadata": {},
   "outputs": [],
   "source": [
    "#question 1 : \n",
    "def isIso(s, t):\n",
    "  m = {}\n",
    "  r = {} \n",
    "  for i, c in enumerate(s):\n",
    "    if c in m:\n",
    "      if t[i] != m[c]:\n",
    "        return False\n",
    "    else:\n",
    "      m[c] = t[i]\n",
    "    if t[i] in r:\n",
    "      if c != r[t[i]]:\n",
    "        return False\n",
    "    else:\n",
    "      r[t[i]] = c\n",
    "  return True"
   ]
  },
  {
   "cell_type": "code",
   "execution_count": 5,
   "id": "da73d328",
   "metadata": {},
   "outputs": [
    {
     "data": {
      "text/plain": [
       "True"
      ]
     },
     "execution_count": 5,
     "metadata": {},
     "output_type": "execute_result"
    }
   ],
   "source": [
    "isIso('egg','add')"
   ]
  },
  {
   "cell_type": "code",
   "execution_count": 6,
   "id": "91762ee1",
   "metadata": {},
   "outputs": [],
   "source": [
    "#question2\n",
    "def isStrobogrammatic(num):\n",
    "  mapping = {\"9\": \"6\", \"6\": \"9\", \"8\": \"8\", \"1\": \"1\", \"0\": \"0\"}\n",
    "  left = 0\n",
    "  right = len(num) - 1\n",
    "  while left <= right:\n",
    "    if num[left] in mapping and mapping[num[left]] == num[right]:\n",
    "      left += 1\n",
    "      right -= 1\n",
    "    else:\n",
    "      return False\n",
    "  return True"
   ]
  },
  {
   "cell_type": "code",
   "execution_count": 8,
   "id": "93ffee79",
   "metadata": {},
   "outputs": [
    {
     "data": {
      "text/plain": [
       "True"
      ]
     },
     "execution_count": 8,
     "metadata": {},
     "output_type": "execute_result"
    }
   ],
   "source": [
    "isStrobogrammatic('1001')"
   ]
  },
  {
   "cell_type": "code",
   "execution_count": 9,
   "id": "726e07e5",
   "metadata": {},
   "outputs": [],
   "source": [
    "#question_3\n",
    "def addStrings(num1, num2):\n",
    "  result = \"\" \n",
    "  carry = 0 \n",
    "  i = len(num1) - 1 \n",
    "  j = len(num2) - 1 \n",
    "  while i >= 0 or j >= 0: \n",
    "    x = int(num1[i]) if i >= 0 else 0\n",
    "    y = int(num2[j]) if j >= 0 else 0 \n",
    "    sum = x + y + carry \n",
    "    carry = sum // 10 \n",
    "    result += str(sum % 10) \n",
    "    i -= 1 \n",
    "    j -= 1 \n",
    "  if carry > 0: \n",
    "    result += str(carry) \n",
    "  return result[::-1]"
   ]
  },
  {
   "cell_type": "code",
   "execution_count": 10,
   "id": "084af96e",
   "metadata": {},
   "outputs": [
    {
     "data": {
      "text/plain": [
       "'234'"
      ]
     },
     "execution_count": 10,
     "metadata": {},
     "output_type": "execute_result"
    }
   ],
   "source": [
    "addStrings(\"111\",'123')"
   ]
  },
  {
   "cell_type": "code",
   "execution_count": 11,
   "id": "d29b52b6",
   "metadata": {},
   "outputs": [],
   "source": [
    "#question_4\n",
    "def reverseWords(s):\n",
    "  words = s.split()\n",
    "  result = \"\"\n",
    "  for word in words: \n",
    "    word = word[::-1]\n",
    "    result += word + \" \" \n",
    "  return result.strip()"
   ]
  },
  {
   "cell_type": "code",
   "execution_count": 12,
   "id": "4e6a2569",
   "metadata": {},
   "outputs": [
    {
     "data": {
      "text/plain": [
       "\"s'teL ekat edoCteeL tsetnoc\""
      ]
     },
     "execution_count": 12,
     "metadata": {},
     "output_type": "execute_result"
    }
   ],
   "source": [
    "reverseWords(\"Let's take LeetCode contest\")"
   ]
  },
  {
   "cell_type": "code",
   "execution_count": 13,
   "id": "656ca58b",
   "metadata": {},
   "outputs": [],
   "source": [
    "#question_5\n",
    "def reverseStr(s, k):\n",
    "  result = \"\" \n",
    "  n = len(s)\n",
    "  i = 0\n",
    "  while i < n:\n",
    "    sub1 = s[i:i+k] \n",
    "    sub2 = s[i+k:i+2*k] \n",
    "    sub1 = sub1[::-1] \n",
    "    result += sub1 + sub2\n",
    "    i += 2*k \n",
    "  return result "
   ]
  },
  {
   "cell_type": "code",
   "execution_count": 15,
   "id": "d40fd436",
   "metadata": {},
   "outputs": [
    {
     "data": {
      "text/plain": [
       "'dscba'"
      ]
     },
     "execution_count": 15,
     "metadata": {},
     "output_type": "execute_result"
    }
   ],
   "source": [
    "reverseStr(\"abcsd\", 5)"
   ]
  },
  {
   "cell_type": "code",
   "execution_count": 16,
   "id": "19b64d59",
   "metadata": {},
   "outputs": [],
   "source": [
    "#question_6\n",
    "def rotateString(s, k):\n",
    "  result = \"\"\n",
    "  n = len(s)\n",
    "  i = 0\n",
    "  while i < n: \n",
    "    sub = s[i:i+k] \n",
    "    sub = sub[::-1] \n",
    "    result += sub\n",
    "    i += k \n",
    "  return result"
   ]
  },
  {
   "cell_type": "code",
   "execution_count": 18,
   "id": "80272860",
   "metadata": {},
   "outputs": [
    {
     "data": {
      "text/plain": [
       "'cbad'"
      ]
     },
     "execution_count": 18,
     "metadata": {},
     "output_type": "execute_result"
    }
   ],
   "source": [
    "rotateString(\"abcd\",3)"
   ]
  },
  {
   "cell_type": "code",
   "execution_count": 19,
   "id": "148cc098",
   "metadata": {},
   "outputs": [],
   "source": [
    "#question_7\n",
    "def backspaceCompare(s, t):\n",
    "  stack_s = [] \n",
    "  stack_t = [] \n",
    "  for c in s: \n",
    "    if c != '#':\n",
    "      stack_s.append(c) \n",
    "    elif stack_s:\n",
    "      stack_s.pop() \n",
    "  for c in t: \n",
    "    if c != '#': \n",
    "      stack_t.append(c) \n",
    "    elif stack_t: \n",
    "      stack_t.pop()\n",
    "  return stack_s == stack_t"
   ]
  },
  {
   "cell_type": "code",
   "execution_count": 20,
   "id": "0672cd66",
   "metadata": {},
   "outputs": [
    {
     "data": {
      "text/plain": [
       "True"
      ]
     },
     "execution_count": 20,
     "metadata": {},
     "output_type": "execute_result"
    }
   ],
   "source": [
    "backspaceCompare(\"ab#c\", \"ad#c\")"
   ]
  },
  {
   "cell_type": "code",
   "execution_count": 22,
   "id": "46c7dd85",
   "metadata": {},
   "outputs": [],
   "source": [
    "#question_8\n",
    "def checkStraightLine(coordinates):\n",
    "  if len(coordinates) == 2:\n",
    "    return True\n",
    "  x1, y1 = coordinates[0]\n",
    "  x2, y2 = coordinates[1]\n",
    "  slope = (y2 - y1) / (x2 - x1) if x2 != x1 else float(\"inf\")\n",
    "  for i in range(2, len(coordinates)):\n",
    "    x3, y3 = coordinates[i]\n",
    "    slope2 = (y3 - y1) / (x3 - x1) if x3 != x1 else float(\"inf\")\n",
    "    if slope2 != slope:\n",
    "      return False\n",
    "  return True"
   ]
  },
  {
   "cell_type": "code",
   "execution_count": 23,
   "id": "70ff386b",
   "metadata": {},
   "outputs": [
    {
     "data": {
      "text/plain": [
       "True"
      ]
     },
     "execution_count": 23,
     "metadata": {},
     "output_type": "execute_result"
    }
   ],
   "source": [
    "checkStraightLine([[1,2],[2,3],[3,4],[4,5],[5,6],[6,7]])"
   ]
  },
  {
   "cell_type": "code",
   "execution_count": null,
   "id": "1cdffae6",
   "metadata": {},
   "outputs": [],
   "source": []
  }
 ],
 "metadata": {
  "kernelspec": {
   "display_name": "Python 3 (ipykernel)",
   "language": "python",
   "name": "python3"
  },
  "language_info": {
   "codemirror_mode": {
    "name": "ipython",
    "version": 3
   },
   "file_extension": ".py",
   "mimetype": "text/x-python",
   "name": "python",
   "nbconvert_exporter": "python",
   "pygments_lexer": "ipython3",
   "version": "3.10.9"
  }
 },
 "nbformat": 4,
 "nbformat_minor": 5
}
